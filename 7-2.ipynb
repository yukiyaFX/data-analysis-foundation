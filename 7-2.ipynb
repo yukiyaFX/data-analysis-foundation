{
 "cells": [
  {
   "cell_type": "code",
   "execution_count": 1,
   "id": "478da169-2bab-4477-8798-f5ef7ae7e609",
   "metadata": {},
   "outputs": [
    {
     "name": "stderr",
     "output_type": "stream",
     "text": [
      "22/06/04 11:05:30 WARN Utils: Your hostname, primary resolves to a loopback address: 127.0.1.1; using 192.168.64.2 instead (on interface enp0s2)\n",
      "22/06/04 11:05:30 WARN Utils: Set SPARK_LOCAL_IP if you need to bind to another address\n",
      "22/06/04 11:05:37 WARN NativeCodeLoader: Unable to load native-hadoop library for your platform... using builtin-java classes where applicable\n",
      "Using Spark's default log4j profile: org/apache/spark/log4j-defaults.properties\n",
      "Setting default log level to \"WARN\".\n",
      "To adjust logging level use sc.setLogLevel(newLevel). For SparkR, use setLogLevel(newLevel).\n"
     ]
    },
    {
     "data": {
      "text/html": [
       "\n",
       "            <div>\n",
       "                <p><b>SparkSession - in-memory</b></p>\n",
       "                \n",
       "        <div>\n",
       "            <p><b>SparkContext</b></p>\n",
       "\n",
       "            <p><a href=\"http://192.168.64.2:4040\">Spark UI</a></p>\n",
       "\n",
       "            <dl>\n",
       "              <dt>Version</dt>\n",
       "                <dd><code>v3.0.1</code></dd>\n",
       "              <dt>Master</dt>\n",
       "                <dd><code>local[*]</code></dd>\n",
       "              <dt>AppName</dt>\n",
       "                <dd><code>pyspark-shell</code></dd>\n",
       "            </dl>\n",
       "        </div>\n",
       "        \n",
       "            </div>\n",
       "        "
      ],
      "text/plain": [
       "<pyspark.sql.session.SparkSession at 0x7fc3084713a0>"
      ]
     },
     "execution_count": 1,
     "metadata": {},
     "output_type": "execute_result"
    }
   ],
   "source": [
    "from pyspark.sql.session import SparkSession\n",
    "spark = SparkSession.builder.getOrCreate()\n",
    "spark"
   ]
  },
  {
   "cell_type": "code",
   "execution_count": 2,
   "id": "1ee46b64-31e4-4c8e-9467-132c9871218b",
   "metadata": {},
   "outputs": [],
   "source": [
    "rdd = spark.sparkContext.textFile(\"./raw/*\")"
   ]
  },
  {
   "cell_type": "code",
   "execution_count": 3,
   "id": "3e6b64da-6d1c-4df6-86ae-5fd47d0accb6",
   "metadata": {},
   "outputs": [
    {
     "name": "stderr",
     "output_type": "stream",
     "text": [
      "                                                                                \r"
     ]
    },
    {
     "data": {
      "text/plain": [
       "['26656 20200101 0005 20191231 1505      3 -164.08   61.35   -20.8     0.0     26 0   -21.6 C 0    80 0 -99.000 -9999.0  1005 0   6.69 0',\n",
       " '26656 20200101 0010 20191231 1510      3 -164.08   61.35   -20.8     0.0     24 0   -21.6 C 0    79 0 -99.000 -9999.0  1005 0   7.64 0']"
      ]
     },
     "execution_count": 3,
     "metadata": {},
     "output_type": "execute_result"
    }
   ],
   "source": [
    "rdd.take(2)"
   ]
  },
  {
   "cell_type": "code",
   "execution_count": 4,
   "id": "9aeb5c3a-0e8d-4e9c-a3f3-319bbd6ec2cd",
   "metadata": {},
   "outputs": [
    {
     "name": "stderr",
     "output_type": "stream",
     "text": [
      "                                                                                \r"
     ]
    },
    {
     "data": {
      "text/plain": [
       "192360"
      ]
     },
     "execution_count": 4,
     "metadata": {},
     "output_type": "execute_result"
    }
   ],
   "source": [
    "rdd.count()"
   ]
  },
  {
   "cell_type": "code",
   "execution_count": 5,
   "id": "195ea1e0-6b55-47bd-b6e3-7005766f74a5",
   "metadata": {},
   "outputs": [],
   "source": [
    "from datetime import datetime,timezone\n",
    "from pyspark.sql import Row"
   ]
  },
  {
   "cell_type": "code",
   "execution_count": 6,
   "id": "27a55675-fc82-41f5-9148-1a2a71b88880",
   "metadata": {},
   "outputs": [],
   "source": [
    "def parse_line(line):\n",
    "    f = line.split()\n",
    "    #観測所番号\n",
    "    wbanno = f[0]\n",
    "    \n",
    "    dt = datetime.strptime(f[1] + f[2], \"%Y%m%d%H%M\")\n",
    "    dt = dt.replace(tzinfo = timezone.utc)\n",
    "    ##気温を実数に変換する\n",
    "    \n",
    "    temperature = None if f[8] == \"-9999.0\" else float(f[8])\n",
    "    \n",
    "    return Row(timestamp=dt, wbanno=wbanno, temperature=temperature)"
   ]
  },
  {
   "cell_type": "code",
   "execution_count": 7,
   "id": "14ef8914-6951-4321-8673-d59947cb6b81",
   "metadata": {},
   "outputs": [
    {
     "data": {
      "text/plain": [
       "[Row(timestamp=datetime.datetime(2020, 1, 1, 0, 5, tzinfo=datetime.timezone.utc), wbanno='26656', temperature=-20.8),\n",
       " Row(timestamp=datetime.datetime(2020, 1, 1, 0, 10, tzinfo=datetime.timezone.utc), wbanno='26656', temperature=-20.8)]"
      ]
     },
     "execution_count": 7,
     "metadata": {},
     "output_type": "execute_result"
    }
   ],
   "source": [
    "rows = rdd.map(parse_line)\n",
    "rows.take(2)"
   ]
  },
  {
   "cell_type": "code",
   "execution_count": 8,
   "id": "d738e9b4-b0ef-449d-bb25-c6d759e907f4",
   "metadata": {},
   "outputs": [
    {
     "data": {
      "text/plain": [
       "DataFrame[timestamp: timestamp, wbanno: string, temperature: double]"
      ]
     },
     "execution_count": 8,
     "metadata": {},
     "output_type": "execute_result"
    }
   ],
   "source": [
    "#RDDからデータフレームを作成する\n",
    "df = rdd.map(parse_line).toDF()\n",
    "df"
   ]
  },
  {
   "cell_type": "code",
   "execution_count": 9,
   "id": "66a23c9e-9d25-4922-8ea0-d010318aa6b2",
   "metadata": {},
   "outputs": [],
   "source": [
    "#タイムゾーンをUTCにセットする\n",
    "spark.conf.set(\"spark.sql.session.timeZone\",\"UTC\")"
   ]
  },
  {
   "cell_type": "code",
   "execution_count": 10,
   "id": "fe2f5e2b-a5c8-4f05-85b2-7f2d18e1216e",
   "metadata": {},
   "outputs": [
    {
     "name": "stderr",
     "output_type": "stream",
     "text": [
      "                                                                                \r"
     ]
    },
    {
     "name": "stdout",
     "output_type": "stream",
     "text": [
      "+-------------------+------+-----------+\n",
      "|          timestamp|wbanno|temperature|\n",
      "+-------------------+------+-----------+\n",
      "|2020-01-01 00:05:00| 26656|      -20.8|\n",
      "|2020-01-01 00:10:00| 26656|      -20.8|\n",
      "+-------------------+------+-----------+\n",
      "only showing top 2 rows\n",
      "\n"
     ]
    }
   ],
   "source": [
    "df.show(2)"
   ]
  },
  {
   "cell_type": "code",
   "execution_count": 11,
   "id": "c337d0dd-d960-4889-b09a-1908159899fa",
   "metadata": {},
   "outputs": [
    {
     "name": "stderr",
     "output_type": "stream",
     "text": [
      "                                                                                \r"
     ]
    },
    {
     "name": "stdout",
     "output_type": "stream",
     "text": [
      "+-------+------------------+------------------+\n",
      "|summary|            wbanno|       temperature|\n",
      "+-------+------------------+------------------+\n",
      "|  count|            192360|            192156|\n",
      "|   mean|           25119.5|1.4450451716313355|\n",
      "| stddev|1536.5039938292543|11.572590880335754|\n",
      "|    min|             23583|             -32.0|\n",
      "|    max|             26656|              24.8|\n",
      "+-------+------------------+------------------+\n",
      "\n"
     ]
    }
   ],
   "source": [
    "#データフレームの統計値を表示\n",
    "df.describe().show()"
   ]
  },
  {
   "cell_type": "code",
   "execution_count": 12,
   "id": "13d31de6-b474-475d-8b2e-d9caa6141942",
   "metadata": {},
   "outputs": [],
   "source": [
    "#データベースを一時的なビューとして登録\n",
    "df.createOrReplaceTempView(\"uscrn\")"
   ]
  },
  {
   "cell_type": "code",
   "execution_count": 13,
   "id": "fbf9c3ee-abf5-4eb0-b9ca-2ca3e68f9cf7",
   "metadata": {},
   "outputs": [
    {
     "name": "stderr",
     "output_type": "stream",
     "text": [
      "[Stage 16:=======================================================>(74 + 1) / 75]\r"
     ]
    },
    {
     "name": "stdout",
     "output_type": "stream",
     "text": [
      "+------+-------------------+-----+-------------------+-----+\n",
      "|wbanno|      timestamp_min|t_min|      timestamp_max|t_max|\n",
      "+------+-------------------+-----+-------------------+-----+\n",
      "| 23583|2020-02-01 16:15:00|-32.0|2020-08-17 00:20:00| 24.8|\n",
      "| 26656|2020-02-09 15:15:00|-30.8|2020-05-30 23:05:00| 23.3|\n",
      "+------+-------------------+-----+-------------------+-----+\n",
      "\n"
     ]
    },
    {
     "name": "stderr",
     "output_type": "stream",
     "text": [
      "                                                                                \r"
     ]
    }
   ],
   "source": [
    "#観測所ごとに最低気温と最高気温を集計\n",
    "\n",
    "query = \"\"\"SELECT wbanno,\n",
    "min_by(timestamp,temperature) timestamp_min,\n",
    "min(temperature) t_min,\n",
    "max_by(timestamp, temperature) timestamp_max,\n",
    "max(temperature) t_max \n",
    "from uscrn \n",
    "GROUP by 1\"\"\"\n",
    "\n",
    "spark.sql(query).show()"
   ]
  },
  {
   "cell_type": "code",
   "execution_count": 14,
   "id": "984088bf-6f0f-4739-a6c1-4fdfe13fbd95",
   "metadata": {},
   "outputs": [
    {
     "ename": "AnalysisException",
     "evalue": "path file:/home/ubuntu/wdpressplus-bigdata/notebooks/uscrn-parquet already exists.;",
     "output_type": "error",
     "traceback": [
      "\u001b[0;31m---------------------------------------------------------------------------\u001b[0m",
      "\u001b[0;31mAnalysisException\u001b[0m                         Traceback (most recent call last)",
      "Input \u001b[0;32mIn [14]\u001b[0m, in \u001b[0;36m<cell line: 2>\u001b[0;34m()\u001b[0m\n\u001b[1;32m      1\u001b[0m \u001b[38;5;66;03m#列志向ストレージとして保存（デフォルトではParquet形式)\u001b[39;00m\n\u001b[0;32m----> 2\u001b[0m \u001b[43mdf\u001b[49m\u001b[38;5;241;43m.\u001b[39;49m\u001b[43mwrite\u001b[49m\u001b[38;5;241;43m.\u001b[39;49m\u001b[43msave\u001b[49m\u001b[43m(\u001b[49m\u001b[38;5;124;43m\"\u001b[39;49m\u001b[38;5;124;43m./uscrn-parquet\u001b[39;49m\u001b[38;5;124;43m\"\u001b[39;49m\u001b[43m)\u001b[49m\n",
      "File \u001b[0;32m~/env/lib/python3.8/site-packages/pyspark/sql/readwriter.py:827\u001b[0m, in \u001b[0;36mDataFrameWriter.save\u001b[0;34m(self, path, format, mode, partitionBy, **options)\u001b[0m\n\u001b[1;32m    825\u001b[0m     \u001b[38;5;28mself\u001b[39m\u001b[38;5;241m.\u001b[39m_jwrite\u001b[38;5;241m.\u001b[39msave()\n\u001b[1;32m    826\u001b[0m \u001b[38;5;28;01melse\u001b[39;00m:\n\u001b[0;32m--> 827\u001b[0m     \u001b[38;5;28;43mself\u001b[39;49m\u001b[38;5;241;43m.\u001b[39;49m\u001b[43m_jwrite\u001b[49m\u001b[38;5;241;43m.\u001b[39;49m\u001b[43msave\u001b[49m\u001b[43m(\u001b[49m\u001b[43mpath\u001b[49m\u001b[43m)\u001b[49m\n",
      "File \u001b[0;32m~/env/lib/python3.8/site-packages/py4j/java_gateway.py:1304\u001b[0m, in \u001b[0;36mJavaMember.__call__\u001b[0;34m(self, *args)\u001b[0m\n\u001b[1;32m   1298\u001b[0m command \u001b[38;5;241m=\u001b[39m proto\u001b[38;5;241m.\u001b[39mCALL_COMMAND_NAME \u001b[38;5;241m+\u001b[39m\\\n\u001b[1;32m   1299\u001b[0m     \u001b[38;5;28mself\u001b[39m\u001b[38;5;241m.\u001b[39mcommand_header \u001b[38;5;241m+\u001b[39m\\\n\u001b[1;32m   1300\u001b[0m     args_command \u001b[38;5;241m+\u001b[39m\\\n\u001b[1;32m   1301\u001b[0m     proto\u001b[38;5;241m.\u001b[39mEND_COMMAND_PART\n\u001b[1;32m   1303\u001b[0m answer \u001b[38;5;241m=\u001b[39m \u001b[38;5;28mself\u001b[39m\u001b[38;5;241m.\u001b[39mgateway_client\u001b[38;5;241m.\u001b[39msend_command(command)\n\u001b[0;32m-> 1304\u001b[0m return_value \u001b[38;5;241m=\u001b[39m \u001b[43mget_return_value\u001b[49m\u001b[43m(\u001b[49m\n\u001b[1;32m   1305\u001b[0m \u001b[43m    \u001b[49m\u001b[43manswer\u001b[49m\u001b[43m,\u001b[49m\u001b[43m \u001b[49m\u001b[38;5;28;43mself\u001b[39;49m\u001b[38;5;241;43m.\u001b[39;49m\u001b[43mgateway_client\u001b[49m\u001b[43m,\u001b[49m\u001b[43m \u001b[49m\u001b[38;5;28;43mself\u001b[39;49m\u001b[38;5;241;43m.\u001b[39;49m\u001b[43mtarget_id\u001b[49m\u001b[43m,\u001b[49m\u001b[43m \u001b[49m\u001b[38;5;28;43mself\u001b[39;49m\u001b[38;5;241;43m.\u001b[39;49m\u001b[43mname\u001b[49m\u001b[43m)\u001b[49m\n\u001b[1;32m   1307\u001b[0m \u001b[38;5;28;01mfor\u001b[39;00m temp_arg \u001b[38;5;129;01min\u001b[39;00m temp_args:\n\u001b[1;32m   1308\u001b[0m     temp_arg\u001b[38;5;241m.\u001b[39m_detach()\n",
      "File \u001b[0;32m~/env/lib/python3.8/site-packages/pyspark/sql/utils.py:134\u001b[0m, in \u001b[0;36mcapture_sql_exception.<locals>.deco\u001b[0;34m(*a, **kw)\u001b[0m\n\u001b[1;32m    130\u001b[0m converted \u001b[38;5;241m=\u001b[39m convert_exception(e\u001b[38;5;241m.\u001b[39mjava_exception)\n\u001b[1;32m    131\u001b[0m \u001b[38;5;28;01mif\u001b[39;00m \u001b[38;5;129;01mnot\u001b[39;00m \u001b[38;5;28misinstance\u001b[39m(converted, UnknownException):\n\u001b[1;32m    132\u001b[0m     \u001b[38;5;66;03m# Hide where the exception came from that shows a non-Pythonic\u001b[39;00m\n\u001b[1;32m    133\u001b[0m     \u001b[38;5;66;03m# JVM exception message.\u001b[39;00m\n\u001b[0;32m--> 134\u001b[0m     \u001b[43mraise_from\u001b[49m\u001b[43m(\u001b[49m\u001b[43mconverted\u001b[49m\u001b[43m)\u001b[49m\n\u001b[1;32m    135\u001b[0m \u001b[38;5;28;01melse\u001b[39;00m:\n\u001b[1;32m    136\u001b[0m     \u001b[38;5;28;01mraise\u001b[39;00m\n",
      "File \u001b[0;32m<string>:3\u001b[0m, in \u001b[0;36mraise_from\u001b[0;34m(e)\u001b[0m\n",
      "\u001b[0;31mAnalysisException\u001b[0m: path file:/home/ubuntu/wdpressplus-bigdata/notebooks/uscrn-parquet already exists.;"
     ]
    }
   ],
   "source": [
    "#列志向ストレージとして保存（デフォルトではParquet形式)\n",
    "df.write.save(\"./uscrn-parquet\")"
   ]
  },
  {
   "cell_type": "code",
   "execution_count": null,
   "id": "9fd847ae-eac2-4a0c-a84c-abdf3e40c4f6",
   "metadata": {},
   "outputs": [],
   "source": [
    "!ls ./uscrn-parquet"
   ]
  },
  {
   "cell_type": "code",
   "execution_count": null,
   "id": "7fc2dfae-65cb-4dd4-8326-112c54cc03ad",
   "metadata": {},
   "outputs": [],
   "source": [
    "#データフレームを読み込む\n",
    "df = spark.read.load(\"./uscrn-parquet\")\n",
    "\n",
    "#観測所ごとに平均気温を計算\n",
    "df.groupBy(\"wbanno\").avg(\"temperature\").show()"
   ]
  },
  {
   "cell_type": "code",
   "execution_count": null,
   "id": "cc879263-e1fa-46fa-9514-a19309d556fa",
   "metadata": {},
   "outputs": [],
   "source": [
    "#3ヶ月のデータを抽出\n",
    "df = spark.read.load(\"./uscrn-parquet\")\n",
    "df1 = df.where(\"timestamp >= '2020-01-01' AND timestamp < '2020-04-01'\")"
   ]
  },
  {
   "cell_type": "code",
   "execution_count": null,
   "id": "26d43203-b270-4b78-b7a7-924f1c5c2962",
   "metadata": {},
   "outputs": [],
   "source": [
    "#レコード数雨を確認しておく\n",
    "df1.count()"
   ]
  },
  {
   "cell_type": "code",
   "execution_count": null,
   "id": "0397a462-990c-468c-ad28-7f97c1f46d9f",
   "metadata": {},
   "outputs": [],
   "source": [
    "#CSV形式でファイルに書き出す（一つのファイルにまとめる）\n",
    "df1.coalesce(1).write.save(\"./export\", format=\"csv\", header=True)"
   ]
  },
  {
   "cell_type": "code",
   "execution_count": null,
   "id": "3501f515-f360-4931-819f-d5406c6c3452",
   "metadata": {},
   "outputs": [],
   "source": [
    "#出力ファイルを確認\n",
    "!ls ./export"
   ]
  },
  {
   "cell_type": "code",
   "execution_count": null,
   "id": "8a6e17ed-04bd-4601-a85b-dd0d871464bd",
   "metadata": {},
   "outputs": [],
   "source": [
    "#デスクトップにコピー\n",
    "!cp ./export/*.csv ~/Home/Desktop"
   ]
  },
  {
   "cell_type": "code",
   "execution_count": null,
   "id": "a32bf582-449f-4a57-b425-205872dbfba4",
   "metadata": {},
   "outputs": [],
   "source": [
    "!pip install pyarrow"
   ]
  },
  {
   "cell_type": "code",
   "execution_count": null,
   "id": "bed8e54e-ae40-48f4-a493-9ed3a77cd15d",
   "metadata": {},
   "outputs": [],
   "source": [
    "from pyspark.sql.session import SparkSession\n",
    "spark = SparkSession.builder.getOrCreate()\n",
    "spark.conf.set(\"spark.sql.session.timeZone\", \"UTC\")"
   ]
  },
  {
   "cell_type": "code",
   "execution_count": null,
   "id": "b4d12867-c4f8-483d-afbf-596c81f8fd03",
   "metadata": {},
   "outputs": [],
   "source": [
    "#sparkのデータフレームとしてロードする\n",
    "df = spark.read.load(\"./uscrn-parquet\")"
   ]
  },
  {
   "cell_type": "code",
   "execution_count": null,
   "id": "b4e514eb-14e4-4cd3-86b2-51a5e044e7b6",
   "metadata": {},
   "outputs": [],
   "source": [
    "#sparkによる集計結果をpandasのデータフレームに変換\n",
    "df1 = df.groupBy(\"timestamp\").avg().toPandas()"
   ]
  },
  {
   "cell_type": "code",
   "execution_count": null,
   "id": "72643cd0-c1b3-4a7d-aae1-bcf86bc5bca4",
   "metadata": {},
   "outputs": [],
   "source": [
    "df1.sort_values(by=\"avg(temperature)\",accending=False).head(2)"
   ]
  },
  {
   "cell_type": "code",
   "execution_count": null,
   "id": "89544826-dfba-439f-9078-4cc30a99c6b0",
   "metadata": {},
   "outputs": [],
   "source": [
    "df1"
   ]
  },
  {
   "cell_type": "code",
   "execution_count": null,
   "id": "4edaf13a-6157-45a5-ae21-df8efe597994",
   "metadata": {},
   "outputs": [],
   "source": [
    "#Parquet形式のファイルを読み込み\n",
    "import pandas as pd\n",
    "df = pd.read_parquet(\"./uscrn-parquet\")"
   ]
  },
  {
   "cell_type": "code",
   "execution_count": null,
   "id": "ab6a8b0a-74ed-4c28-8548-202ad6f5d607",
   "metadata": {},
   "outputs": [],
   "source": [
    "#pandasでデータを集計\n",
    "df1 = df.groupby(\"timestamp\").mean()\n",
    "df1.sort_values(by=\"temperature\", ascending=False).head(2)"
   ]
  },
  {
   "cell_type": "code",
   "execution_count": null,
   "id": "4df8d924-fcef-4e0c-b2ca-20d6d107d4ac",
   "metadata": {},
   "outputs": [],
   "source": []
  }
 ],
 "metadata": {
  "kernelspec": {
   "display_name": "Python 3 (ipykernel)",
   "language": "python",
   "name": "python3"
  },
  "language_info": {
   "codemirror_mode": {
    "name": "ipython",
    "version": 3
   },
   "file_extension": ".py",
   "mimetype": "text/x-python",
   "name": "python",
   "nbconvert_exporter": "python",
   "pygments_lexer": "ipython3",
   "version": "3.8.10"
  }
 },
 "nbformat": 4,
 "nbformat_minor": 5
}
