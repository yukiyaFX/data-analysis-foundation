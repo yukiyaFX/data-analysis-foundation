{
 "cells": [
  {
   "cell_type": "markdown",
   "metadata": {
    "colab_type": "text",
    "id": "view-in-github"
   },
   "source": [
    "<a href=\"https://colab.research.google.com/github/wdpressplus-bigdata/wdpressplus-bigdata/blob/main/notebooks/7-3.ipynb\" target=\"_parent\"><img src=\"https://colab.research.google.com/assets/colab-badge.svg\" alt=\"Open In Colab\"/></a>"
   ]
  },
  {
   "cell_type": "code",
   "execution_count": null,
   "metadata": {
    "id": "c30o-uV3VLGr"
   },
   "outputs": [],
   "source": [
    "# p.308\n",
    "!pip install boto3 prefect==0.13.19"
   ]
  },
  {
   "cell_type": "code",
   "execution_count": null,
   "metadata": {
    "id": "WpffuiTSVMyL"
   },
   "outputs": [],
   "source": [
    "# p.309 List 7.7\n",
    "from prefect import task, Flow\n",
    "\n",
    "@task\n",
    "def get_message():\n",
    "    return 'Hello, world!'\n",
    "\n",
    "@task\n",
    "def print_message(msg):\n",
    "    print(msg)\n",
    "\n",
    "with Flow('hello') as flow:\n",
    "    msg = get_message()\n",
    "    print_message(msg)\n",
    "\n",
    "if __name__ == '__main__':\n",
    "    flow.run()"
   ]
  },
  {
   "cell_type": "code",
   "execution_count": null,
   "metadata": {
    "id": "aHgMT_vtVjxQ"
   },
   "outputs": [],
   "source": [
    "# p.313 List 7.8\n",
    "import prefect\n",
    "from prefect import task, Flow, Parameter\n",
    "\n",
    "@task\n",
    "def download(date):\n",
    "    target_date = date or prefect.context.yesterday\n",
    "    print(f\"Donwload ftp://server/{target_date}/app.log\")\n",
    "\n",
    "with Flow('download') as flow:\n",
    "    date = Parameter('date', default=None)\n",
    "    download(date)\n",
    "\n",
    "if __name__ == '__main__':\n",
    "    flow.run()"
   ]
  },
  {
   "cell_type": "code",
   "execution_count": null,
   "metadata": {
    "id": "ri1e2ejoVqBG"
   },
   "outputs": [],
   "source": [
    "# p.315 List 7.10\n",
    "from prefect import Task, Flow\n",
    "\n",
    "class LogTask(Task):\n",
    "    def __init__(self, prefix, **kwargs):\n",
    "        super().__init__(**kwargs)\n",
    "        self.prefix = prefix\n",
    "\n",
    "    def run(self, message):\n",
    "        print(f\"{self.prefix}: {message}\")\n",
    "\n",
    "log = LogTask('INFO')\n",
    "\n",
    "with Flow('task-class') as flow:\n",
    "    log('message')\n",
    "\n",
    "if __name__ == '__main__':\n",
    "    flow.run()"
   ]
  },
  {
   "cell_type": "code",
   "execution_count": null,
   "metadata": {
    "id": "5ZR5m1-XZG51"
   },
   "outputs": [],
   "source": [
    "# Enable pytest in notebooks\n",
    "!pip install ipytest\n",
    "import ipytest\n",
    "ipytest.autoconfig()"
   ]
  },
  {
   "cell_type": "code",
   "execution_count": null,
   "metadata": {
    "id": "_BDRwkipX7O4"
   },
   "outputs": [],
   "source": [
    "%%run_pytest\n",
    "\n",
    "# p.316 List 7.11\n",
    "from prefect import task, Flow\n",
    "\n",
    "@task\n",
    "def get_message():\n",
    "    return 'Hello, world!'\n",
    "\n",
    "def test_get_message():\n",
    "    with Flow('test') as flow:\n",
    "        task1 = get_message()\n",
    "    state = flow.run()\n",
    "    assert state.result[task1].result == 'Hello, world!'"
   ]
  },
  {
   "cell_type": "code",
   "execution_count": null,
   "metadata": {},
   "outputs": [],
   "source": []
  }
 ],
 "metadata": {
  "colab": {
   "authorship_tag": "ABX9TyOLG8m0v7mzPV3ULCooOQ02",
   "include_colab_link": true,
   "name": "7-3.ipynb",
   "provenance": []
  },
  "kernelspec": {
   "display_name": "Python 3 (ipykernel)",
   "language": "python",
   "name": "python3"
  },
  "language_info": {
   "codemirror_mode": {
    "name": "ipython",
    "version": 3
   },
   "file_extension": ".py",
   "mimetype": "text/x-python",
   "name": "python",
   "nbconvert_exporter": "python",
   "pygments_lexer": "ipython3",
   "version": "3.8.10"
  }
 },
 "nbformat": 4,
 "nbformat_minor": 4
}
